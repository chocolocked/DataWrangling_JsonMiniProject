{
 "cells": [
  {
   "cell_type": "code",
   "execution_count": 5,
   "metadata": {
    "collapsed": true
   },
   "outputs": [],
   "source": [
    "import pandas as pd \n",
    "import json "
   ]
  },
  {
   "cell_type": "code",
   "execution_count": 88,
   "metadata": {
    "scrolled": true
   },
   "outputs": [],
   "source": [
    "#json.load((open('data/world_bank_projects.json')))  Tried.Would cause problems to the notebook server\n",
    "#instead, load it as a pandas dataframe "
   ]
  },
  {
   "cell_type": "code",
   "execution_count": 20,
   "metadata": {},
   "outputs": [
    {
     "name": "stdout",
     "output_type": "stream",
     "text": [
      "(500, 50)\n",
      "Index([u'_id', u'approvalfy', u'board_approval_month', u'boardapprovaldate',\n",
      "       u'borrower', u'closingdate', u'country_namecode', u'countrycode',\n",
      "       u'countryname', u'countryshortname', u'docty',\n",
      "       u'envassesmentcategorycode', u'grantamt', u'ibrdcommamt', u'id',\n",
      "       u'idacommamt', u'impagency', u'lendinginstr', u'lendinginstrtype',\n",
      "       u'lendprojectcost', u'majorsector_percent', u'mjsector_namecode',\n",
      "       u'mjtheme', u'mjtheme_namecode', u'mjthemecode', u'prodline',\n",
      "       u'prodlinetext', u'productlinetype', u'project_abstract',\n",
      "       u'project_name', u'projectdocs', u'projectfinancialtype',\n",
      "       u'projectstatusdisplay', u'regionname', u'sector', u'sector1',\n",
      "       u'sector2', u'sector3', u'sector4', u'sector_namecode', u'sectorcode',\n",
      "       u'source', u'status', u'supplementprojectflg', u'theme1',\n",
      "       u'theme_namecode', u'themecode', u'totalamt', u'totalcommamt', u'url'],\n",
      "      dtype='object')\n",
      "                                      _id  approvalfy board_approval_month  \\\n",
      "0  {u'$oid': u'52b213b38594d8a2be17c780'}        1999             November   \n",
      "1  {u'$oid': u'52b213b38594d8a2be17c781'}        2015             November   \n",
      "2  {u'$oid': u'52b213b38594d8a2be17c782'}        2014             November   \n",
      "3  {u'$oid': u'52b213b38594d8a2be17c783'}        2014              October   \n",
      "4  {u'$oid': u'52b213b38594d8a2be17c784'}        2014              October   \n",
      "\n",
      "      boardapprovaldate                                 borrower  \\\n",
      "0  2013-11-12T00:00:00Z  FEDERAL DEMOCRATIC REPUBLIC OF ETHIOPIA   \n",
      "1  2013-11-04T00:00:00Z                    GOVERNMENT OF TUNISIA   \n",
      "2  2013-11-01T00:00:00Z   MINISTRY OF FINANCE AND ECONOMIC DEVEL   \n",
      "3  2013-10-31T00:00:00Z   MIN. OF PLANNING AND INT'L COOPERATION   \n",
      "4  2013-10-31T00:00:00Z                      MINISTRY OF FINANCE   \n",
      "\n",
      "            closingdate                              country_namecode  \\\n",
      "0  2018-07-07T00:00:00Z  Federal Democratic Republic of Ethiopia!$!ET   \n",
      "1                   NaN                      Republic of Tunisia!$!TN   \n",
      "2                   NaN                                   Tuvalu!$!TV   \n",
      "3                   NaN                        Republic of Yemen!$!RY   \n",
      "4  2019-04-30T00:00:00Z                       Kingdom of Lesotho!$!LS   \n",
      "\n",
      "  countrycode                              countryname    countryshortname  \\\n",
      "0          ET  Federal Democratic Republic of Ethiopia            Ethiopia   \n",
      "1          TN                      Republic of Tunisia             Tunisia   \n",
      "2          TV                                   Tuvalu              Tuvalu   \n",
      "3          RY                        Republic of Yemen  Yemen, Republic of   \n",
      "4          LS                       Kingdom of Lesotho             Lesotho   \n",
      "\n",
      "                         ...                           sectorcode source  \\\n",
      "0                        ...                          ET,BS,ES,EP   IBRD   \n",
      "1                        ...                                BZ,BS   IBRD   \n",
      "2                        ...                                   TI   IBRD   \n",
      "3                        ...                                   JB   IBRD   \n",
      "4                        ...                             FH,YW,YZ   IBRD   \n",
      "\n",
      "   status  supplementprojectflg  \\\n",
      "0  Active                     N   \n",
      "1  Active                     N   \n",
      "2  Active                     Y   \n",
      "3  Active                     N   \n",
      "4  Active                     N   \n",
      "\n",
      "                                              theme1  \\\n",
      "0   {u'Percent': 100, u'Name': u'Education for all'}   \n",
      "1  {u'Percent': 30, u'Name': u'Other economic man...   \n",
      "2  {u'Percent': 46, u'Name': u'Regional integrati...   \n",
      "3  {u'Percent': 50, u'Name': u'Participation and ...   \n",
      "4  {u'Percent': 30, u'Name': u'Export development...   \n",
      "\n",
      "                                      theme_namecode    themecode   totalamt  \\\n",
      "0  [{u'code': u'65', u'name': u'Education for all'}]           65  130000000   \n",
      "1  [{u'code': u'24', u'name': u'Other economic ma...        54,24          0   \n",
      "2  [{u'code': u'47', u'name': u'Regional integrat...  52,81,25,47    6060000   \n",
      "3  [{u'code': u'57', u'name': u'Participation and...        59,57          0   \n",
      "4  [{u'code': u'45', u'name': u'Export developmen...        41,45   13100000   \n",
      "\n",
      "  totalcommamt                                                url  \n",
      "0    130000000  http://www.worldbank.org/projects/P129828/ethi...  \n",
      "1      4700000  http://www.worldbank.org/projects/P144674?lang=en  \n",
      "2      6060000  http://www.worldbank.org/projects/P145310?lang=en  \n",
      "3      1500000  http://www.worldbank.org/projects/P144665?lang=en  \n",
      "4     13100000  http://www.worldbank.org/projects/P144933/seco...  \n",
      "\n",
      "[5 rows x 50 columns]\n"
     ]
    }
   ],
   "source": [
    "json_df = pd.read_json('data/world_bank_projects.json')\n",
    "type(json_df)\n",
    "#inspect the dataframe\n",
    "print(json_df.shape)\n",
    "print(json_df.columns)\n",
    "print(json_df.head())"
   ]
  },
  {
   "cell_type": "code",
   "execution_count": 57,
   "metadata": {},
   "outputs": [
    {
     "data": {
      "text/plain": [
       "countryname\n",
       "People's Republic of China                  19\n",
       "Republic of Indonesia                       19\n",
       "Socialist Republic of Vietnam               17\n",
       "Republic of India                           16\n",
       "Republic of Yemen                           13\n",
       "Nepal                                       12\n",
       "People's Republic of Bangladesh             12\n",
       "Kingdom of Morocco                          12\n",
       "Africa                                      11\n",
       "Republic of Mozambique                      11\n",
       "Burkina Faso                                 9\n",
       "Federative Republic of Brazil                9\n",
       "Islamic Republic of Pakistan                 9\n",
       "United Republic of Tanzania                  8\n",
       "Republic of Tajikistan                       8\n",
       "Republic of Armenia                          8\n",
       "Kyrgyz Republic                              7\n",
       "Lao People's Democratic Republic             7\n",
       "Hashemite Kingdom of Jordan                  7\n",
       "Federal Republic of Nigeria                  7\n",
       "Republic of Nicaragua                        6\n",
       "West Bank and Gaza                           6\n",
       "Republic of Kenya                            6\n",
       "Islamic State of Afghanistan                 6\n",
       "Republic of Peru                             6\n",
       "Democratic Republic of the Congo             6\n",
       "Republic of Niger                            5\n",
       "Republic of Moldova                          5\n",
       "Republic of Honduras                         5\n",
       "Republic of Haiti                            5\n",
       "                                            ..\n",
       "Republic of Seychelles                       2\n",
       "Plurinational State of Bolivia               2\n",
       "Republic of Sierra Leone                     2\n",
       "Republic of Ecuador                          2\n",
       "Argentine Republic                           2\n",
       "Republic of Cameroon                         2\n",
       "Arab Republic of Egypt                       2\n",
       "Tuvalu                                       1\n",
       "Antigua and Barbuda                          1\n",
       "Central African Republic                     1\n",
       "Europe and Central Asia                      1\n",
       "Democratic Socialist Republic of Sri Lan     1\n",
       "Bosnia and Herzegovina                       1\n",
       "East Asia and Pacific                        1\n",
       "Republic of Chile                            1\n",
       "Republic of Kiribati                         1\n",
       "Republic of Namibia                          1\n",
       "Romania                                      1\n",
       "Republic of Panama                           1\n",
       "Republic of Chad                             1\n",
       "Kingdom of Thailand                          1\n",
       "Kingdom of Tonga                             1\n",
       "Republic of Serbia                           1\n",
       "Republic of Zimbabwe                         1\n",
       "People's Republic of Angola                  1\n",
       "Republic of Costa Rica                       1\n",
       "Republic of Congo                            1\n",
       "Republic of Belarus                          1\n",
       "Republic of Cape Verde                       1\n",
       "Republic of Poland                           1\n",
       "Name: _id, Length: 118, dtype: int64"
      ]
     },
     "execution_count": 57,
     "metadata": {},
     "output_type": "execute_result"
    }
   ],
   "source": [
    "#group the data by 'countryname' and count how many project ids each have, sort the result with highest values first \n",
    "#answer to question 1\n",
    "#10 countries with most projects are the first 10 records\n",
    "json_df.groupby('countryname')['_id'].count().sort_values(ascending = False)"
   ]
  },
  {
   "cell_type": "code",
   "execution_count": 23,
   "metadata": {},
   "outputs": [
    {
     "name": "stdout",
     "output_type": "stream",
     "text": [
      "                                    mjtheme_namecode\n",
      "0  [{u'code': u'8', u'name': u'Human development'...\n",
      "1  [{u'code': u'1', u'name': u'Economic managemen...\n",
      "2  [{u'code': u'5', u'name': u'Trade and integrat...\n",
      "3  [{u'code': u'7', u'name': u'Social dev/gender/...\n",
      "4  [{u'code': u'5', u'name': u'Trade and integrat...\n",
      "5  [{u'code': u'6', u'name': u'Social protection ...\n",
      "6  [{u'code': u'2', u'name': u'Public sector gove...\n",
      "7  [{u'code': u'11', u'name': u'Environment and n...\n",
      "8  [{u'code': u'10', u'name': u'Rural development...\n",
      "9  [{u'code': u'2', u'name': u'Public sector gove...\n"
     ]
    }
   ],
   "source": [
    "#top 10 major project themes\n",
    "#can't see the full content, disgard \n",
    "print(json_df[['mjtheme_namecode']].head(10)) "
   ]
  },
  {
   "cell_type": "code",
   "execution_count": 63,
   "metadata": {},
   "outputs": [
    {
     "name": "stdout",
     "output_type": "stream",
     "text": [
      "[{u'code': u'8', u'name': u'Human development'}, {u'code': u'11', u'name': u''}]\n",
      "2\n",
      "[{u'code': u'1', u'name': u'Economic management'}, {u'code': u'6', u'name': u'Social protection and risk management'}]\n",
      "2\n",
      "[{u'code': u'5', u'name': u'Trade and integration'}, {u'code': u'2', u'name': u'Public sector governance'}, {u'code': u'11', u'name': u'Environment and natural resources management'}, {u'code': u'6', u'name': u'Social protection and risk management'}]\n",
      "4\n",
      "[{u'code': u'7', u'name': u'Social dev/gender/inclusion'}, {u'code': u'7', u'name': u'Social dev/gender/inclusion'}]\n",
      "2\n",
      "[{u'code': u'5', u'name': u'Trade and integration'}, {u'code': u'4', u'name': u'Financial and private sector development'}]\n",
      "2\n",
      "[{u'code': u'6', u'name': u'Social protection and risk management'}, {u'code': u'6', u'name': u''}]\n",
      "2\n",
      "[{u'code': u'2', u'name': u'Public sector governance'}, {u'code': u'4', u'name': u'Financial and private sector development'}]\n",
      "2\n",
      "[{u'code': u'11', u'name': u'Environment and natural resources management'}, {u'code': u'8', u'name': u''}]\n",
      "2\n",
      "[{u'code': u'10', u'name': u'Rural development'}, {u'code': u'7', u'name': u''}]\n",
      "2\n",
      "[{u'code': u'2', u'name': u'Public sector governance'}, {u'code': u'2', u'name': u'Public sector governance'}, {u'code': u'2', u'name': u'Public sector governance'}]\n",
      "3\n"
     ]
    }
   ],
   "source": [
    "#shows full content for each entry, each entry: a list of dictionaries, also of different lengths\n",
    "for i in range(10):\n",
    "    print json_df['mjtheme_namecode'][i] \n",
    "    print len(json_df['mjtheme_namecode'][i])"
   ]
  },
  {
   "cell_type": "code",
   "execution_count": 75,
   "metadata": {},
   "outputs": [],
   "source": [
    "#question 3\n",
    "#first get the all available code-name pair\n",
    "d ={}\n",
    "for i in range(500): \n",
    "    row = json_df['mjtheme_namecode'][i]\n",
    "    l = len(row)\n",
    "    for j in range(l):\n",
    "        if row[j] ['name'] != '':\n",
    "            d[row[j]['code']]=row[j]['name']"
   ]
  },
  {
   "cell_type": "code",
   "execution_count": 85,
   "metadata": {},
   "outputs": [
    {
     "data": {
      "text/plain": [
       "[u'11', u'10', u'1', u'3', u'2', u'5', u'4', u'7', u'6', u'9', u'8']"
      ]
     },
     "execution_count": 85,
     "metadata": {},
     "output_type": "execute_result"
    }
   ],
   "source": [
    "d.keys()"
   ]
  },
  {
   "cell_type": "code",
   "execution_count": 82,
   "metadata": {},
   "outputs": [
    {
     "data": {
      "text/plain": [
       "[(u'11', u'Environment and natural resources management'),\n",
       " (u'10', u'Rural development'),\n",
       " (u'1', u'Economic management'),\n",
       " (u'3', u'Rule of law'),\n",
       " (u'2', u'Public sector governance'),\n",
       " (u'5', u'Trade and integration'),\n",
       " (u'4', u'Financial and private sector development'),\n",
       " (u'7', u'Social dev/gender/inclusion'),\n",
       " (u'6', u'Social protection and risk management'),\n",
       " (u'9', u'Urban development'),\n",
       " (u'8', u'Human development')]"
      ]
     },
     "execution_count": 82,
     "metadata": {},
     "output_type": "execute_result"
    }
   ],
   "source": [
    "d.items()"
   ]
  },
  {
   "cell_type": "code",
   "execution_count": 86,
   "metadata": {
    "collapsed": true
   },
   "outputs": [],
   "source": [
    "#fill out the missing names using dictionary created above\n",
    "new_df = json_df\n",
    "for i in range(500): \n",
    "    row = new_df['mjtheme_namecode'][i]\n",
    "    l = len(row)\n",
    "    for j in range(l):\n",
    "        if row[j] ['name'] == '':\n",
    "            row[j]['name']=d[row[j]['code']]"
   ]
  },
  {
   "cell_type": "code",
   "execution_count": 87,
   "metadata": {},
   "outputs": [
    {
     "name": "stdout",
     "output_type": "stream",
     "text": [
      "[{u'code': u'8', u'name': u'Human development'}, {u'code': u'11', u'name': u'Environment and natural resources management'}]\n",
      "[{u'code': u'1', u'name': u'Economic management'}, {u'code': u'6', u'name': u'Social protection and risk management'}]\n",
      "[{u'code': u'5', u'name': u'Trade and integration'}, {u'code': u'2', u'name': u'Public sector governance'}, {u'code': u'11', u'name': u'Environment and natural resources management'}, {u'code': u'6', u'name': u'Social protection and risk management'}]\n",
      "[{u'code': u'7', u'name': u'Social dev/gender/inclusion'}, {u'code': u'7', u'name': u'Social dev/gender/inclusion'}]\n",
      "[{u'code': u'5', u'name': u'Trade and integration'}, {u'code': u'4', u'name': u'Financial and private sector development'}]\n",
      "[{u'code': u'6', u'name': u'Social protection and risk management'}, {u'code': u'6', u'name': u'Social protection and risk management'}]\n",
      "[{u'code': u'2', u'name': u'Public sector governance'}, {u'code': u'4', u'name': u'Financial and private sector development'}]\n",
      "[{u'code': u'11', u'name': u'Environment and natural resources management'}, {u'code': u'8', u'name': u'Human development'}]\n",
      "[{u'code': u'10', u'name': u'Rural development'}, {u'code': u'7', u'name': u'Social dev/gender/inclusion'}]\n",
      "[{u'code': u'2', u'name': u'Public sector governance'}, {u'code': u'2', u'name': u'Public sector governance'}, {u'code': u'2', u'name': u'Public sector governance'}]\n"
     ]
    }
   ],
   "source": [
    "#check\n",
    "for i in range(10):\n",
    "    print new_df['mjtheme_namecode'][i]"
   ]
  }
 ],
 "metadata": {
  "kernelspec": {
   "display_name": "Python 2",
   "language": "python",
   "name": "python2"
  },
  "language_info": {
   "codemirror_mode": {
    "name": "ipython",
    "version": 2
   },
   "file_extension": ".py",
   "mimetype": "text/x-python",
   "name": "python",
   "nbconvert_exporter": "python",
   "pygments_lexer": "ipython2",
   "version": "2.7.14"
  }
 },
 "nbformat": 4,
 "nbformat_minor": 2
}
